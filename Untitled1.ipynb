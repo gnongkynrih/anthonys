{
 "cells": [
  {
   "cell_type": "code",
   "execution_count": 3,
   "id": "67ab0713-d1ff-41ec-b0ba-0948ff48002a",
   "metadata": {},
   "outputs": [],
   "source": [
    "n  =10\n",
    "name='john'\n"
   ]
  },
  {
   "cell_type": "code",
   "execution_count": 5,
   "id": "230e09cf-21d2-44cf-b48e-ae48d109c1fc",
   "metadata": {},
   "outputs": [
    {
     "name": "stdout",
     "output_type": "stream",
     "text": [
      "name = john\n"
     ]
    }
   ],
   "source": [
    "print('name = {}'.format(name))\n"
   ]
  },
  {
   "cell_type": "code",
   "execution_count": 10,
   "id": "472307b6-a88b-4dde-88bc-2cc64959d443",
   "metadata": {},
   "outputs": [
    {
     "name": "stdout",
     "output_type": "stream",
     "text": [
      "jo\n"
     ]
    }
   ],
   "source": [
    "\n",
    "print(name[:2])"
   ]
  },
  {
   "cell_type": "code",
   "execution_count": null,
   "id": "3d01b794-b845-40ce-83f5-b9cfb0f56ecb",
   "metadata": {},
   "outputs": [],
   "source": []
  }
 ],
 "metadata": {
  "kernelspec": {
   "display_name": "Python 3 (ipykernel)",
   "language": "python",
   "name": "python3"
  },
  "language_info": {
   "codemirror_mode": {
    "name": "ipython",
    "version": 3
   },
   "file_extension": ".py",
   "mimetype": "text/x-python",
   "name": "python",
   "nbconvert_exporter": "python",
   "pygments_lexer": "ipython3",
   "version": "3.11.7"
  }
 },
 "nbformat": 4,
 "nbformat_minor": 5
}
