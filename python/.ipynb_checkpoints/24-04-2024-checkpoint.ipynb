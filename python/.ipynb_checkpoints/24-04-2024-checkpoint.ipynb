{
 "cells": [
  {
   "cell_type": "markdown",
   "id": "bd666eab-c6e3-4bb2-8303-c6e4f2c3d092",
   "metadata": {},
   "source": [
    "Slicing\n"
   ]
  },
  {
   "cell_type": "code",
   "execution_count": 2,
   "id": "bbc09afb-aa15-46d5-9ae0-213b037a5dc8",
   "metadata": {},
   "outputs": [
    {
     "name": "stdout",
     "output_type": "stream",
     "text": [
      "Hell\n"
     ]
    }
   ],
   "source": [
    "b = \"Hello, World!\"\n",
    "print(b[0:4])"
   ]
  },
  {
   "cell_type": "code",
   "execution_count": 3,
   "id": "262bbd99-712e-477b-ba2a-4d78a377fd1c",
   "metadata": {},
   "outputs": [
    {
     "name": "stdout",
     "output_type": "stream",
     "text": [
      "Hell\n"
     ]
    }
   ],
   "source": [
    "print(b[:4])"
   ]
  },
  {
   "cell_type": "code",
   "execution_count": 4,
   "id": "376cb634-0dbe-4f38-a640-fbb5b601c61e",
   "metadata": {},
   "outputs": [
    {
     "name": "stdout",
     "output_type": "stream",
     "text": [
      "llo, World!\n"
     ]
    }
   ],
   "source": [
    "print(b[2:])"
   ]
  },
  {
   "cell_type": "code",
   "execution_count": 5,
   "id": "54b3de40-598b-4308-a04b-033de6ba9643",
   "metadata": {},
   "outputs": [
    {
     "name": "stdout",
     "output_type": "stream",
     "text": [
      "orl\n"
     ]
    }
   ],
   "source": [
    "print(b[-5:-2]) #negative indexing"
   ]
  },
  {
   "cell_type": "code",
   "execution_count": 7,
   "id": "a5257031-dc79-4748-bd62-6ac37adaaea2",
   "metadata": {},
   "outputs": [
    {
     "name": "stdout",
     "output_type": "stream",
     "text": [
      "HELLO, WORLD!\n"
     ]
    }
   ],
   "source": [
    "print(b.upper())"
   ]
  },
  {
   "cell_type": "code",
   "execution_count": 8,
   "id": "c9c5b569-cd0b-4834-941e-830c96ba1b28",
   "metadata": {},
   "outputs": [
    {
     "name": "stdout",
     "output_type": "stream",
     "text": [
      "hello, world!\n"
     ]
    }
   ],
   "source": [
    "print(b.lower())"
   ]
  },
  {
   "cell_type": "code",
   "execution_count": 12,
   "id": "0fb7d77c-9af8-48e1-8ad3-873c4e2e0575",
   "metadata": {},
   "outputs": [
    {
     "name": "stdout",
     "output_type": "stream",
     "text": [
      "8\n"
     ]
    }
   ],
   "source": [
    "a = \" wor ld \"\n",
    "print(len(a))"
   ]
  },
  {
   "cell_type": "code",
   "execution_count": 13,
   "id": "dd7318e9-b444-4d04-98fa-309f0e8b98e4",
   "metadata": {},
   "outputs": [
    {
     "name": "stdout",
     "output_type": "stream",
     "text": [
      "6\n"
     ]
    }
   ],
   "source": [
    "print(len(a.strip()))   #removes the leading and trailing white spaces"
   ]
  },
  {
   "cell_type": "code",
   "execution_count": 14,
   "id": "341571e2-367c-4f1f-930c-8b63cab6696f",
   "metadata": {},
   "outputs": [
    {
     "name": "stdout",
     "output_type": "stream",
     "text": [
      " goodd \n"
     ]
    }
   ],
   "source": [
    "print(a.replace(\"wor l\", \"good\"))"
   ]
  },
  {
   "cell_type": "code",
   "execution_count": 15,
   "id": "41fd2272-25fe-4969-8d5d-e7d50fead011",
   "metadata": {},
   "outputs": [
    {
     "name": "stdout",
     "output_type": "stream",
     "text": [
      " wor ld \n"
     ]
    }
   ],
   "source": [
    "print(a)"
   ]
  },
  {
   "cell_type": "code",
   "execution_count": 20,
   "id": "aea153ac-acde-43ca-b593-8a6d588c5706",
   "metadata": {},
   "outputs": [
    {
     "name": "stdout",
     "output_type": "stream",
     "text": [
      "['this', ' is', ' the', ' day that']\n"
     ]
    }
   ],
   "source": [
    "b = \"this, is, the, day that\"\n",
    "c = b.split(',')\n",
    "print(c)"
   ]
  },
  {
   "cell_type": "code",
   "execution_count": 22,
   "id": "59e7b8e0-c134-4970-ba8c-14acc8422f2a",
   "metadata": {},
   "outputs": [
    {
     "name": "stdout",
     "output_type": "stream",
     "text": [
      "My name is John, I am 38\n"
     ]
    }
   ],
   "source": [
    "age = 36\n",
    "txt = f\"My name is John, I am {age + 2}\"\n",
    "print(txt)"
   ]
  },
  {
   "cell_type": "code",
   "execution_count": 61,
   "id": "76834392-5688-49f9-83dd-1a4843865da2",
   "metadata": {},
   "outputs": [
    {
     "name": "stdout",
     "output_type": "stream",
     "text": [
      "osll\n"
     ]
    }
   ],
   "source": [
    "print(\"hell\\ros\")"
   ]
  },
  {
   "cell_type": "code",
   "execution_count": 34,
   "id": "24a6b8fe-c345-4a8a-9462-6b705b866002",
   "metadata": {},
   "outputs": [
    {
     "name": "stdout",
     "output_type": "stream",
     "text": [
      "The Quick Brown Fox Jumps Ovr The Lazy Dog\n"
     ]
    }
   ],
   "source": [
    "a = \"the quick brown fox jumps ovr the lazy dog\"\n",
    "print(a.title())"
   ]
  },
  {
   "cell_type": "code",
   "execution_count": 36,
   "id": "426f0b7f-d885-4fef-bc36-810d80f422cb",
   "metadata": {},
   "outputs": [
    {
     "name": "stdout",
     "output_type": "stream",
     "text": [
      "False\n"
     ]
    }
   ],
   "source": [
    "a = \"admin@123\"\n",
    "print(a.isidentifier())"
   ]
  },
  {
   "cell_type": "code",
   "execution_count": 49,
   "id": "3fa29321-93e8-48ab-820b-489138fafd41",
   "metadata": {},
   "outputs": [
    {
     "name": "stdout",
     "output_type": "stream",
     "text": [
      "True\n",
      "True\n",
      "True\n",
      "True\n"
     ]
    }
   ],
   "source": [
    "print(bool(\"Hello\"))\n",
    "print(bool(15))\n",
    "print(bool(-1))\n",
    "print(bool(not False))"
   ]
  },
  {
   "cell_type": "code",
   "execution_count": 57,
   "id": "6da1f3e6-8a90-40f5-9b3d-2a4c294bad22",
   "metadata": {},
   "outputs": [
    {
     "name": "stdout",
     "output_type": "stream",
     "text": [
      "9.33\n"
     ]
    }
   ],
   "source": [
    "a = 28/3\n",
    "print(f\"{a:.2f}\")"
   ]
  },
  {
   "cell_type": "code",
   "execution_count": 52,
   "id": "549584e6-c06a-44e4-b5d4-869c89913477",
   "metadata": {},
   "outputs": [
    {
     "data": {
      "text/plain": [
       "9"
      ]
     },
     "execution_count": 52,
     "metadata": {},
     "output_type": "execute_result"
    }
   ],
   "source": [
    "28//3"
   ]
  },
  {
   "cell_type": "code",
   "execution_count": 12,
   "id": "097be1df-4506-4d22-ae95-a7a643f85ad0",
   "metadata": {},
   "outputs": [
    {
     "data": {
      "text/plain": [
       "[1, 2, 3, 5]"
      ]
     },
     "execution_count": 12,
     "metadata": {},
     "output_type": "execute_result"
    }
   ],
   "source": [
    "a = [1,2,3]\n",
    "x = a\n",
    "a.append(5)\n",
    "x"
   ]
  },
  {
   "cell_type": "code",
   "execution_count": null,
   "id": "8dfba9c1-f7c9-4577-8365-b76545be701e",
   "metadata": {},
   "outputs": [],
   "source": []
  }
 ],
 "metadata": {
  "kernelspec": {
   "display_name": "Python 3 (ipykernel)",
   "language": "python",
   "name": "python3"
  },
  "language_info": {
   "codemirror_mode": {
    "name": "ipython",
    "version": 3
   },
   "file_extension": ".py",
   "mimetype": "text/x-python",
   "name": "python",
   "nbconvert_exporter": "python",
   "pygments_lexer": "ipython3",
   "version": "3.11.7"
  }
 },
 "nbformat": 4,
 "nbformat_minor": 5
}
