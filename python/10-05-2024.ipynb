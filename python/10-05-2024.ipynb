{
 "cells": [
  {
   "cell_type": "code",
   "execution_count": 26,
   "id": "873fb650-3d79-4465-ac31-7ec4e19e33b1",
   "metadata": {},
   "outputs": [
    {
     "name": "stdout",
     "output_type": "stream",
     "text": [
      "there was no break\n"
     ]
    }
   ],
   "source": [
    "show = False\n",
    "for i in range(2,14):\n",
    "    if i % 20!= 0: \n",
    "        show = True\n",
    "        break\n",
    "if  show == True:\n",
    "    print('there was no break');"
   ]
  },
  {
   "cell_type": "code",
   "execution_count": 28,
   "id": "6fafd656-ddb4-4fda-82e9-d761e3ddabb3",
   "metadata": {},
   "outputs": [],
   "source": [
    "def abc():\n",
    "    pass"
   ]
  },
  {
   "cell_type": "code",
   "execution_count": 31,
   "id": "8bc8573c-6ce9-43e5-9ae1-3c6d08b3b72f",
   "metadata": {},
   "outputs": [
    {
     "name": "stdout",
     "output_type": "stream",
     "text": [
      "i am calling abc None\n"
     ]
    }
   ],
   "source": [
    "a = abc()\n",
    "print('i am calling abc {}'.format( a))"
   ]
  },
  {
   "cell_type": "code",
   "execution_count": 33,
   "id": "8af9a162-9938-4dfc-ae46-7098e357336d",
   "metadata": {},
   "outputs": [],
   "source": [
    "### Program to print a triangle using function"
   ]
  },
  {
   "cell_type": "code",
   "execution_count": 40,
   "id": "d05f9beb-cd19-4350-8075-f0ec33211dda",
   "metadata": {},
   "outputs": [
    {
     "name": "stdout",
     "output_type": "stream",
     "text": [
      "* \n",
      "* * \n",
      "* * * \n",
      "* * * * \n",
      "* * * * * \n"
     ]
    }
   ],
   "source": [
    "def triangle(rows):\n",
    "    for i in range(0,rows):\n",
    "        star =''\n",
    "        for j in range(rows - i - 1,rows):\n",
    "            star = star + '* '\n",
    "        print(star)\n",
    "        \n",
    "triangle(5)\n"
   ]
  },
  {
   "cell_type": "code",
   "execution_count": 41,
   "id": "8aece0f8-7351-4876-a845-f18e9e1ea692",
   "metadata": {},
   "outputs": [],
   "source": [
    "### count number of times a word appear in a string+"
   ]
  },
  {
   "cell_type": "code",
   "execution_count": 68,
   "id": "f68f40bf-1a81-443a-a8a2-df70951cc2c5",
   "metadata": {},
   "outputs": [
    {
     "name": "stdout",
     "output_type": "stream",
     "text": [
      "2\n"
     ]
    }
   ],
   "source": [
    "def numberOfWords(words,search):\n",
    "    wordList = words.lower().split()\n",
    "    num = 0;\n",
    "    search = search.lower()\n",
    "    for i in wordList:\n",
    "        if search in i:\n",
    "            num += 1\n",
    "    return num\n",
    "\n",
    "x = \"Hello There, how are you doing there\"\n",
    "\n",
    "search = 'There'\n",
    "result = numberOfWords(x , search)\n",
    "print(result)"
   ]
  },
  {
   "cell_type": "code",
   "execution_count": null,
   "id": "c5c49aef-9601-4887-a3bc-62a85327994f",
   "metadata": {},
   "outputs": [],
   "source": []
  }
 ],
 "metadata": {
  "kernelspec": {
   "display_name": "Python 3 (ipykernel)",
   "language": "python",
   "name": "python3"
  },
  "language_info": {
   "codemirror_mode": {
    "name": "ipython",
    "version": 3
   },
   "file_extension": ".py",
   "mimetype": "text/x-python",
   "name": "python",
   "nbconvert_exporter": "python",
   "pygments_lexer": "ipython3",
   "version": "3.11.7"
  }
 },
 "nbformat": 4,
 "nbformat_minor": 5
}
