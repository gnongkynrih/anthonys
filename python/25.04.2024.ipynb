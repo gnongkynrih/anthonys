{
 "cells": [
  {
   "cell_type": "markdown",
   "id": "3cac38f8-e335-4280-b854-08260bcc0c57",
   "metadata": {},
   "source": [
    "# LIST\n",
    "## 25.04.2024"
   ]
  },
  {
   "cell_type": "code",
   "execution_count": 7,
   "id": "a9c2b548-8706-45be-93ee-65da3ac3bf51",
   "metadata": {},
   "outputs": [
    {
     "name": "stdout",
     "output_type": "stream",
     "text": [
      "['apple', 'banana', 'cherry', 'apple', 'cherry', 2, 5, True]\n"
     ]
    }
   ],
   "source": [
    "thislist = [\"apple\", \"banana\", \"cherry\", \"apple\", \"cherry\",2,5,True]\n",
    "print(thislist)"
   ]
  },
  {
   "cell_type": "code",
   "execution_count": 5,
   "id": "a7753ad4-8267-4e38-8099-8802e9ec1311",
   "metadata": {},
   "outputs": [],
   "source": [
    "thislist[4] = 'orange'"
   ]
  },
  {
   "cell_type": "code",
   "execution_count": 6,
   "id": "c9b6cff7-34b3-46ec-b5ac-a2fae47bb4f5",
   "metadata": {},
   "outputs": [
    {
     "data": {
      "text/plain": [
       "['apple', 'banana', 'cherry', 'apple', 'orange']"
      ]
     },
     "execution_count": 6,
     "metadata": {},
     "output_type": "execute_result"
    }
   ],
   "source": [
    "thislist"
   ]
  },
  {
   "cell_type": "code",
   "execution_count": 9,
   "id": "74372b72-49a7-4825-a58a-ea1eeba6f759",
   "metadata": {},
   "outputs": [
    {
     "name": "stdout",
     "output_type": "stream",
     "text": [
      "<class 'list'>\n"
     ]
    }
   ],
   "source": [
    "print(type(thislist))"
   ]
  },
  {
   "cell_type": "code",
   "execution_count": 10,
   "id": "e887c1d2-d5fe-4eed-8445-23c7d2709071",
   "metadata": {},
   "outputs": [
    {
     "data": {
      "text/plain": [
       "True"
      ]
     },
     "execution_count": 10,
     "metadata": {},
     "output_type": "execute_result"
    }
   ],
   "source": [
    "thislist[-1]"
   ]
  },
  {
   "cell_type": "code",
   "execution_count": 11,
   "id": "bd1620d5-57ab-43e2-ad39-3af33c6d1b8c",
   "metadata": {},
   "outputs": [
    {
     "data": {
      "text/plain": [
       "['apple', 'banana', 'cherry', 'apple', 'cherry', 2, 5, True]"
      ]
     },
     "execution_count": 11,
     "metadata": {},
     "output_type": "execute_result"
    }
   ],
   "source": [
    "thislist"
   ]
  },
  {
   "cell_type": "code",
   "execution_count": 15,
   "id": "b3493685-3a6c-4745-b915-e008ea3961ec",
   "metadata": {},
   "outputs": [
    {
     "data": {
      "text/plain": [
       "['cherry', 'apple', 'cherry', 2, 5, True]"
      ]
     },
     "execution_count": 15,
     "metadata": {},
     "output_type": "execute_result"
    }
   ],
   "source": [
    "thislist[2:]"
   ]
  },
  {
   "cell_type": "code",
   "execution_count": 18,
   "id": "a7f03834-4500-4a36-b937-3b01189aa93a",
   "metadata": {},
   "outputs": [
    {
     "name": "stdout",
     "output_type": "stream",
     "text": [
      "['orange', 'kiwi', 'melon']\n"
     ]
    }
   ],
   "source": [
    "thislist = [\"apple\", \"banana\", \"cherry\", \"orange\", \"kiwi\", \"melon\", \"mango\"]\n",
    "print(thislist[-4:-1])"
   ]
  },
  {
   "cell_type": "code",
   "execution_count": 19,
   "id": "474c4826-a12f-45e5-ae3b-3ca8117f9a3b",
   "metadata": {},
   "outputs": [
    {
     "name": "stdout",
     "output_type": "stream",
     "text": [
      "banana exist in the list\n"
     ]
    }
   ],
   "source": [
    "search = \"banana\"\n",
    "if search in thislist:\n",
    "    print('{} exist in the list'.format(search))"
   ]
  },
  {
   "cell_type": "code",
   "execution_count": 22,
   "id": "90fdaf77-57cc-4581-90e6-064de4dcdef7",
   "metadata": {},
   "outputs": [
    {
     "name": "stdout",
     "output_type": "stream",
     "text": [
      "['test', 'kiwi', 'grapes', 'orange', 'kiwi', 'melon', 'mango']\n"
     ]
    }
   ],
   "source": [
    "thislist[1:3] = [\"kiwi\",\"grapes\",\"strawberry\"]\n",
    "thislist[0] = \"test\"\n",
    "print(thislist)"
   ]
  },
  {
   "cell_type": "code",
   "execution_count": 23,
   "id": "b50a0f72-91d7-45dc-9a0e-8a1b9b012730",
   "metadata": {},
   "outputs": [
    {
     "name": "stdout",
     "output_type": "stream",
     "text": [
      "['test', 'kiwi', 'grapes', 'strawberry', 'orange', 'kiwi', 'melon', 'mango']\n"
     ]
    }
   ],
   "source": [
    "thislist[1:3] = [\"kiwi\",\"grapes\",\"strawberry\"]\n",
    "print(thislist)"
   ]
  },
  {
   "cell_type": "code",
   "execution_count": 31,
   "id": "a00cb22a-00fc-4c40-b153-0545ae9bd4dc",
   "metadata": {},
   "outputs": [],
   "source": [
    "thislist[0:1] = [\"two\"]"
   ]
  },
  {
   "cell_type": "code",
   "execution_count": 33,
   "id": "def18701-d7b2-42a0-984f-aeaa6dfd60a9",
   "metadata": {},
   "outputs": [
    {
     "name": "stdout",
     "output_type": "stream",
     "text": [
      "['apple', 'watermelon']\n"
     ]
    }
   ],
   "source": [
    "thislist = [\"apple\", \"banana\", \"cherry\"]\n",
    "thislist[1:3] = [\"watermelon\"]\n",
    "print(thislist)"
   ]
  },
  {
   "cell_type": "code",
   "execution_count": 36,
   "id": "d99badca-0547-4a84-a582-58b638fe5d9a",
   "metadata": {},
   "outputs": [],
   "source": [
    "thislist.insert(0,\"lemon\")"
   ]
  },
  {
   "cell_type": "code",
   "execution_count": 50,
   "id": "a0a3909a-104f-41bf-a3c9-683ca927901b",
   "metadata": {},
   "outputs": [
    {
     "data": {
      "text/plain": [
       "['lemon', 'apple', 'watermelon', 'mango']"
      ]
     },
     "execution_count": 50,
     "metadata": {},
     "output_type": "execute_result"
    }
   ],
   "source": [
    "thislist"
   ]
  },
  {
   "cell_type": "code",
   "execution_count": 38,
   "id": "018562e3-0bdb-4d1d-aac2-52193d773619",
   "metadata": {},
   "outputs": [],
   "source": [
    "thislist.insert(len(thislist),\"ending\")"
   ]
  },
  {
   "cell_type": "code",
   "execution_count": 41,
   "id": "294b452e-1920-4697-8f0a-a568fbac6ad4",
   "metadata": {},
   "outputs": [],
   "source": [
    "thislist.append('another ending')"
   ]
  },
  {
   "cell_type": "code",
   "execution_count": 45,
   "id": "f64fb934-5b9e-4653-9279-160f61299583",
   "metadata": {},
   "outputs": [
    {
     "name": "stdout",
     "output_type": "stream",
     "text": [
      "[1, 2, 3]\n"
     ]
    }
   ],
   "source": [
    "a = [1,2,3]\n",
    "b = a.copy()\n",
    "a[1] = 20\n",
    "print (b)"
   ]
  },
  {
   "cell_type": "code",
   "execution_count": 49,
   "id": "768359a2-0bc7-4269-8fe6-60d7686c64d7",
   "metadata": {},
   "outputs": [
    {
     "data": {
      "text/plain": [
       "'ending'"
      ]
     },
     "execution_count": 49,
     "metadata": {},
     "output_type": "execute_result"
    }
   ],
   "source": [
    "thislist.pop()"
   ]
  },
  {
   "cell_type": "code",
   "execution_count": 53,
   "id": "12cc7f80-c289-4dfc-b435-ce28b573dd3f",
   "metadata": {},
   "outputs": [
    {
     "name": "stdout",
     "output_type": "stream",
     "text": [
      "0\n"
     ]
    }
   ],
   "source": [
    "a = [1,2,3]\n",
    "b= [1,2,3]\n",
    "del a\n",
    "b.clear()\n",
    "#print(len(a))\n",
    "print(len(b))\n"
   ]
  },
  {
   "cell_type": "code",
   "execution_count": 58,
   "id": "dcdb7bf0-06af-48de-9338-5cc2602be366",
   "metadata": {},
   "outputs": [
    {
     "name": "stdout",
     "output_type": "stream",
     "text": [
      "['Apple', 'banana', 'mango']\n"
     ]
    }
   ],
   "source": [
    "fruits = [\"Apple\", \"banana\", \"cherry\", \"kiwi\", \"mango\"]\n",
    "newlist = []\n",
    "\n",
    "for x in fruits:\n",
    "  if \"a\" in x.lower():\n",
    "    newlist.append(x)\n",
    "\n",
    "print(newlist)"
   ]
  },
  {
   "cell_type": "code",
   "execution_count": 59,
   "id": "e3db396e-b06d-43ce-ad4e-8f2d812429ee",
   "metadata": {},
   "outputs": [
    {
     "data": {
      "text/plain": [
       "range(0, 10)"
      ]
     },
     "execution_count": 59,
     "metadata": {},
     "output_type": "execute_result"
    }
   ],
   "source": [
    "range(10)"
   ]
  },
  {
   "cell_type": "code",
   "execution_count": 64,
   "id": "cc645ea0-1447-464d-8e34-288dc8006733",
   "metadata": {},
   "outputs": [
    {
     "name": "stdout",
     "output_type": "stream",
     "text": [
      "[1, 3, 5, 7, 9]\n"
     ]
    }
   ],
   "source": [
    "mylist =[ x for x in range(10) if x % 2 !=0]\n",
    "print(mylist)"
   ]
  },
  {
   "cell_type": "code",
   "execution_count": null,
   "id": "3a3d52b8-aa5b-4bf3-ac78-b5194ef4f332",
   "metadata": {},
   "outputs": [],
   "source": []
  }
 ],
 "metadata": {
  "kernelspec": {
   "display_name": "Python 3 (ipykernel)",
   "language": "python",
   "name": "python3"
  },
  "language_info": {
   "codemirror_mode": {
    "name": "ipython",
    "version": 3
   },
   "file_extension": ".py",
   "mimetype": "text/x-python",
   "name": "python",
   "nbconvert_exporter": "python",
   "pygments_lexer": "ipython3",
   "version": "3.11.7"
  }
 },
 "nbformat": 4,
 "nbformat_minor": 5
}
